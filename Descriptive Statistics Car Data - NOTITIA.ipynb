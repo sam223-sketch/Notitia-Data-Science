{
 "cells": [
  {
   "cell_type": "code",
   "execution_count": 1,
   "metadata": {},
   "outputs": [],
   "source": [
    "# Get the Libraries\n",
    "import warnings\n",
    "warnings.filterwarnings('ignore')\n",
    "\n",
    "import pandas as pd\n",
    "import numpy as np\n",
    "\n",
    "import matplotlib.pyplot as plt\n",
    "import seaborn as sns\n",
    "\n",
    "#from sklearn import metrics\n",
    "\n",
    "#from sklearn.model_selection import train_test_split\n",
    "\n",
    "# To enable plotting graphs in Jupyter notebook\n",
    "%matplotlib inline\n",
    "sns.set(color_codes=True) #adds a good background to our plots"
   ]
  },
  {
   "cell_type": "code",
   "execution_count": 2,
   "metadata": {},
   "outputs": [],
   "source": [
    "df = pd.read_csv('car_data.csv')"
   ]
  },
  {
   "cell_type": "code",
   "execution_count": 3,
   "metadata": {},
   "outputs": [
    {
     "data": {
      "text/html": [
       "<div>\n",
       "<style scoped>\n",
       "    .dataframe tbody tr th:only-of-type {\n",
       "        vertical-align: middle;\n",
       "    }\n",
       "\n",
       "    .dataframe tbody tr th {\n",
       "        vertical-align: top;\n",
       "    }\n",
       "\n",
       "    .dataframe thead th {\n",
       "        text-align: right;\n",
       "    }\n",
       "</style>\n",
       "<table border=\"1\" class=\"dataframe\">\n",
       "  <thead>\n",
       "    <tr style=\"text-align: right;\">\n",
       "      <th></th>\n",
       "      <th>Car_Name</th>\n",
       "      <th>Year</th>\n",
       "      <th>Selling_Price</th>\n",
       "      <th>Present_Price</th>\n",
       "      <th>Kms_Driven</th>\n",
       "      <th>Fuel_Type</th>\n",
       "      <th>Seller_Type</th>\n",
       "      <th>Transmission</th>\n",
       "      <th>Owner</th>\n",
       "    </tr>\n",
       "  </thead>\n",
       "  <tbody>\n",
       "    <tr>\n",
       "      <th>0</th>\n",
       "      <td>ritz</td>\n",
       "      <td>2014</td>\n",
       "      <td>3.35</td>\n",
       "      <td>5.59</td>\n",
       "      <td>27000</td>\n",
       "      <td>Petrol</td>\n",
       "      <td>Dealer</td>\n",
       "      <td>Manual</td>\n",
       "      <td>0</td>\n",
       "    </tr>\n",
       "    <tr>\n",
       "      <th>1</th>\n",
       "      <td>sx4</td>\n",
       "      <td>2013</td>\n",
       "      <td>4.75</td>\n",
       "      <td>9.54</td>\n",
       "      <td>43000</td>\n",
       "      <td>Diesel</td>\n",
       "      <td>Dealer</td>\n",
       "      <td>Manual</td>\n",
       "      <td>0</td>\n",
       "    </tr>\n",
       "    <tr>\n",
       "      <th>2</th>\n",
       "      <td>ciaz</td>\n",
       "      <td>2017</td>\n",
       "      <td>7.25</td>\n",
       "      <td>9.85</td>\n",
       "      <td>6900</td>\n",
       "      <td>Petrol</td>\n",
       "      <td>Dealer</td>\n",
       "      <td>Manual</td>\n",
       "      <td>0</td>\n",
       "    </tr>\n",
       "    <tr>\n",
       "      <th>3</th>\n",
       "      <td>wagon r</td>\n",
       "      <td>2011</td>\n",
       "      <td>2.85</td>\n",
       "      <td>4.15</td>\n",
       "      <td>5200</td>\n",
       "      <td>Petrol</td>\n",
       "      <td>Dealer</td>\n",
       "      <td>Manual</td>\n",
       "      <td>0</td>\n",
       "    </tr>\n",
       "    <tr>\n",
       "      <th>4</th>\n",
       "      <td>swift</td>\n",
       "      <td>2014</td>\n",
       "      <td>4.60</td>\n",
       "      <td>6.87</td>\n",
       "      <td>42450</td>\n",
       "      <td>Diesel</td>\n",
       "      <td>Dealer</td>\n",
       "      <td>Manual</td>\n",
       "      <td>0</td>\n",
       "    </tr>\n",
       "  </tbody>\n",
       "</table>\n",
       "</div>"
      ],
      "text/plain": [
       "  Car_Name  Year  Selling_Price  Present_Price  Kms_Driven Fuel_Type  \\\n",
       "0     ritz  2014           3.35           5.59       27000    Petrol   \n",
       "1      sx4  2013           4.75           9.54       43000    Diesel   \n",
       "2     ciaz  2017           7.25           9.85        6900    Petrol   \n",
       "3  wagon r  2011           2.85           4.15        5200    Petrol   \n",
       "4    swift  2014           4.60           6.87       42450    Diesel   \n",
       "\n",
       "  Seller_Type Transmission  Owner  \n",
       "0      Dealer       Manual      0  \n",
       "1      Dealer       Manual      0  \n",
       "2      Dealer       Manual      0  \n",
       "3      Dealer       Manual      0  \n",
       "4      Dealer       Manual      0  "
      ]
     },
     "execution_count": 3,
     "metadata": {},
     "output_type": "execute_result"
    }
   ],
   "source": [
    "# Display Dataset 5 lines from the head\n",
    "df.head(5)"
   ]
  },
  {
   "cell_type": "code",
   "execution_count": 4,
   "metadata": {},
   "outputs": [
    {
     "data": {
      "text/html": [
       "<div>\n",
       "<style scoped>\n",
       "    .dataframe tbody tr th:only-of-type {\n",
       "        vertical-align: middle;\n",
       "    }\n",
       "\n",
       "    .dataframe tbody tr th {\n",
       "        vertical-align: top;\n",
       "    }\n",
       "\n",
       "    .dataframe thead th {\n",
       "        text-align: right;\n",
       "    }\n",
       "</style>\n",
       "<table border=\"1\" class=\"dataframe\">\n",
       "  <thead>\n",
       "    <tr style=\"text-align: right;\">\n",
       "      <th></th>\n",
       "      <th>Car_Name</th>\n",
       "      <th>Year</th>\n",
       "      <th>Selling_Price</th>\n",
       "      <th>Present_Price</th>\n",
       "      <th>Kms_Driven</th>\n",
       "      <th>Fuel_Type</th>\n",
       "      <th>Seller_Type</th>\n",
       "      <th>Transmission</th>\n",
       "      <th>Owner</th>\n",
       "    </tr>\n",
       "  </thead>\n",
       "  <tbody>\n",
       "    <tr>\n",
       "      <th>296</th>\n",
       "      <td>city</td>\n",
       "      <td>2016</td>\n",
       "      <td>9.50</td>\n",
       "      <td>11.6</td>\n",
       "      <td>33988</td>\n",
       "      <td>Diesel</td>\n",
       "      <td>Dealer</td>\n",
       "      <td>Manual</td>\n",
       "      <td>0</td>\n",
       "    </tr>\n",
       "    <tr>\n",
       "      <th>297</th>\n",
       "      <td>brio</td>\n",
       "      <td>2015</td>\n",
       "      <td>4.00</td>\n",
       "      <td>5.9</td>\n",
       "      <td>60000</td>\n",
       "      <td>Petrol</td>\n",
       "      <td>Dealer</td>\n",
       "      <td>Manual</td>\n",
       "      <td>0</td>\n",
       "    </tr>\n",
       "    <tr>\n",
       "      <th>298</th>\n",
       "      <td>city</td>\n",
       "      <td>2009</td>\n",
       "      <td>3.35</td>\n",
       "      <td>11.0</td>\n",
       "      <td>87934</td>\n",
       "      <td>Petrol</td>\n",
       "      <td>Dealer</td>\n",
       "      <td>Manual</td>\n",
       "      <td>0</td>\n",
       "    </tr>\n",
       "    <tr>\n",
       "      <th>299</th>\n",
       "      <td>city</td>\n",
       "      <td>2017</td>\n",
       "      <td>11.50</td>\n",
       "      <td>12.5</td>\n",
       "      <td>9000</td>\n",
       "      <td>Diesel</td>\n",
       "      <td>Dealer</td>\n",
       "      <td>Manual</td>\n",
       "      <td>0</td>\n",
       "    </tr>\n",
       "    <tr>\n",
       "      <th>300</th>\n",
       "      <td>brio</td>\n",
       "      <td>2016</td>\n",
       "      <td>5.30</td>\n",
       "      <td>5.9</td>\n",
       "      <td>5464</td>\n",
       "      <td>Petrol</td>\n",
       "      <td>Dealer</td>\n",
       "      <td>Manual</td>\n",
       "      <td>0</td>\n",
       "    </tr>\n",
       "  </tbody>\n",
       "</table>\n",
       "</div>"
      ],
      "text/plain": [
       "    Car_Name  Year  Selling_Price  Present_Price  Kms_Driven Fuel_Type  \\\n",
       "296     city  2016           9.50           11.6       33988    Diesel   \n",
       "297     brio  2015           4.00            5.9       60000    Petrol   \n",
       "298     city  2009           3.35           11.0       87934    Petrol   \n",
       "299     city  2017          11.50           12.5        9000    Diesel   \n",
       "300     brio  2016           5.30            5.9        5464    Petrol   \n",
       "\n",
       "    Seller_Type Transmission  Owner  \n",
       "296      Dealer       Manual      0  \n",
       "297      Dealer       Manual      0  \n",
       "298      Dealer       Manual      0  \n",
       "299      Dealer       Manual      0  \n",
       "300      Dealer       Manual      0  "
      ]
     },
     "execution_count": 4,
     "metadata": {},
     "output_type": "execute_result"
    }
   ],
   "source": [
    "# Display Dataset 5 lines from the tail\n",
    "df.tail(5)"
   ]
  },
  {
   "cell_type": "code",
   "execution_count": 5,
   "metadata": {},
   "outputs": [
    {
     "data": {
      "text/plain": [
       "<bound method DataFrame.info of           Car_Name  Year  Selling_Price  Present_Price  Kms_Driven Fuel_Type  \\\n",
       "0             ritz  2014           3.35           5.59       27000    Petrol   \n",
       "1              sx4  2013           4.75           9.54       43000    Diesel   \n",
       "2             ciaz  2017           7.25           9.85        6900    Petrol   \n",
       "3          wagon r  2011           2.85           4.15        5200    Petrol   \n",
       "4            swift  2014           4.60           6.87       42450    Diesel   \n",
       "5    vitara brezza  2018           9.25           9.83        2071    Diesel   \n",
       "6             ciaz  2015           6.75           8.12       18796    Petrol   \n",
       "7          s cross  2015           6.50           8.61       33429    Diesel   \n",
       "8             ciaz  2016           8.75           8.89       20273    Diesel   \n",
       "9             ciaz  2015           7.45           8.92       42367    Diesel   \n",
       "10        alto 800  2017           2.85           3.60        2135    Petrol   \n",
       "11            ciaz  2015           6.85          10.38       51000    Diesel   \n",
       "12            ciaz  2015           7.50           9.94       15000    Petrol   \n",
       "13          ertiga  2015           6.10           7.71       26000    Petrol   \n",
       "14           dzire  2009           2.25           7.21       77427    Petrol   \n",
       "15          ertiga  2016           7.75          10.79       43000    Diesel   \n",
       "16          ertiga  2015           7.25          10.79       41678    Diesel   \n",
       "17          ertiga  2016           7.75          10.79       43000    Diesel   \n",
       "18         wagon r  2015           3.25           5.09       35500       CNG   \n",
       "19             sx4  2010           2.65           7.98       41442    Petrol   \n",
       "20        alto k10  2016           2.85           3.95       25000    Petrol   \n",
       "21           ignis  2017           4.90           5.71        2400    Petrol   \n",
       "22             sx4  2011           4.40           8.01       50000    Petrol   \n",
       "23        alto k10  2014           2.50           3.46       45280    Petrol   \n",
       "24         wagon r  2013           2.90           4.41       56879    Petrol   \n",
       "25           swift  2011           3.00           4.99       20000    Petrol   \n",
       "26           swift  2013           4.15           5.87       55138    Petrol   \n",
       "27           swift  2017           6.00           6.49       16200    Petrol   \n",
       "28        alto k10  2010           1.95           3.95       44542    Petrol   \n",
       "29            ciaz  2015           7.45          10.38       45000    Diesel   \n",
       "..             ...   ...            ...            ...         ...       ...   \n",
       "271           city  2009           3.00          10.00       69562    Petrol   \n",
       "272           city  2015           7.50          10.00       27600    Petrol   \n",
       "273           jazz  2010           2.25           7.50       61203    Petrol   \n",
       "274           brio  2014           5.30           6.80       16500    Petrol   \n",
       "275           city  2016          10.90          13.60       30753    Petrol   \n",
       "276           city  2015           8.65          13.60       24800    Petrol   \n",
       "277           city  2015           9.70          13.60       21780    Petrol   \n",
       "278           jazz  2016           6.00           8.40        4000    Petrol   \n",
       "279           city  2014           6.25          13.60       40126    Petrol   \n",
       "280           brio  2015           5.25           5.90       14465    Petrol   \n",
       "281           city  2006           2.10           7.60       50456    Petrol   \n",
       "282           city  2014           8.25          14.00       63000    Diesel   \n",
       "283           city  2016           8.99          11.80        9010    Petrol   \n",
       "284           brio  2013           3.50           5.90        9800    Petrol   \n",
       "285           jazz  2016           7.40           8.50       15059    Petrol   \n",
       "286           jazz  2016           5.65           7.90       28569    Petrol   \n",
       "287          amaze  2015           5.75           7.50       44000    Petrol   \n",
       "288           city  2015           8.40          13.60       34000    Petrol   \n",
       "289           city  2016          10.11          13.60       10980    Petrol   \n",
       "290          amaze  2014           4.50           6.40       19000    Petrol   \n",
       "291           brio  2015           5.40           6.10       31427    Petrol   \n",
       "292           jazz  2016           6.40           8.40       12000    Petrol   \n",
       "293           city  2010           3.25           9.90       38000    Petrol   \n",
       "294          amaze  2014           3.75           6.80       33019    Petrol   \n",
       "295           city  2015           8.55          13.09       60076    Diesel   \n",
       "296           city  2016           9.50          11.60       33988    Diesel   \n",
       "297           brio  2015           4.00           5.90       60000    Petrol   \n",
       "298           city  2009           3.35          11.00       87934    Petrol   \n",
       "299           city  2017          11.50          12.50        9000    Diesel   \n",
       "300           brio  2016           5.30           5.90        5464    Petrol   \n",
       "\n",
       "    Seller_Type Transmission  Owner  \n",
       "0        Dealer       Manual      0  \n",
       "1        Dealer       Manual      0  \n",
       "2        Dealer       Manual      0  \n",
       "3        Dealer       Manual      0  \n",
       "4        Dealer       Manual      0  \n",
       "5        Dealer       Manual      0  \n",
       "6        Dealer       Manual      0  \n",
       "7        Dealer       Manual      0  \n",
       "8        Dealer       Manual      0  \n",
       "9        Dealer       Manual      0  \n",
       "10       Dealer       Manual      0  \n",
       "11       Dealer       Manual      0  \n",
       "12       Dealer    Automatic      0  \n",
       "13       Dealer       Manual      0  \n",
       "14       Dealer       Manual      0  \n",
       "15       Dealer       Manual      0  \n",
       "16       Dealer       Manual      0  \n",
       "17       Dealer       Manual      0  \n",
       "18       Dealer       Manual      0  \n",
       "19       Dealer       Manual      0  \n",
       "20       Dealer       Manual      0  \n",
       "21       Dealer       Manual      0  \n",
       "22       Dealer    Automatic      0  \n",
       "23       Dealer       Manual      0  \n",
       "24       Dealer       Manual      0  \n",
       "25       Dealer       Manual      0  \n",
       "26       Dealer       Manual      0  \n",
       "27   Individual       Manual      0  \n",
       "28       Dealer       Manual      0  \n",
       "29       Dealer       Manual      0  \n",
       "..          ...          ...    ...  \n",
       "271      Dealer       Manual      0  \n",
       "272      Dealer       Manual      0  \n",
       "273      Dealer       Manual      0  \n",
       "274      Dealer       Manual      0  \n",
       "275      Dealer    Automatic      0  \n",
       "276      Dealer       Manual      0  \n",
       "277      Dealer       Manual      0  \n",
       "278      Dealer       Manual      0  \n",
       "279      Dealer       Manual      0  \n",
       "280      Dealer       Manual      0  \n",
       "281      Dealer       Manual      0  \n",
       "282      Dealer       Manual      0  \n",
       "283      Dealer       Manual      0  \n",
       "284      Dealer       Manual      0  \n",
       "285      Dealer    Automatic      0  \n",
       "286      Dealer       Manual      0  \n",
       "287      Dealer    Automatic      0  \n",
       "288      Dealer       Manual      0  \n",
       "289      Dealer       Manual      0  \n",
       "290      Dealer       Manual      0  \n",
       "291      Dealer       Manual      0  \n",
       "292      Dealer       Manual      0  \n",
       "293      Dealer       Manual      0  \n",
       "294      Dealer       Manual      0  \n",
       "295      Dealer       Manual      0  \n",
       "296      Dealer       Manual      0  \n",
       "297      Dealer       Manual      0  \n",
       "298      Dealer       Manual      0  \n",
       "299      Dealer       Manual      0  \n",
       "300      Dealer       Manual      0  \n",
       "\n",
       "[301 rows x 9 columns]>"
      ]
     },
     "execution_count": 5,
     "metadata": {},
     "output_type": "execute_result"
    }
   ],
   "source": [
    "# Display Dataset information\n",
    "df.info"
   ]
  },
  {
   "cell_type": "code",
   "execution_count": 6,
   "metadata": {},
   "outputs": [
    {
     "data": {
      "text/plain": [
       "Index(['Car_Name', 'Year', 'Selling_Price', 'Present_Price', 'Kms_Driven',\n",
       "       'Fuel_Type', 'Seller_Type', 'Transmission', 'Owner'],\n",
       "      dtype='object')"
      ]
     },
     "execution_count": 6,
     "metadata": {},
     "output_type": "execute_result"
    }
   ],
   "source": [
    "# Display all column heads of dataset\n",
    "df.columns"
   ]
  },
  {
   "cell_type": "code",
   "execution_count": 7,
   "metadata": {},
   "outputs": [
    {
     "data": {
      "text/html": [
       "<div>\n",
       "<style scoped>\n",
       "    .dataframe tbody tr th:only-of-type {\n",
       "        vertical-align: middle;\n",
       "    }\n",
       "\n",
       "    .dataframe tbody tr th {\n",
       "        vertical-align: top;\n",
       "    }\n",
       "\n",
       "    .dataframe thead th {\n",
       "        text-align: right;\n",
       "    }\n",
       "</style>\n",
       "<table border=\"1\" class=\"dataframe\">\n",
       "  <thead>\n",
       "    <tr style=\"text-align: right;\">\n",
       "      <th></th>\n",
       "      <th>Year</th>\n",
       "      <th>Selling_Price</th>\n",
       "      <th>Present_Price</th>\n",
       "      <th>Kms_Driven</th>\n",
       "      <th>Owner</th>\n",
       "    </tr>\n",
       "  </thead>\n",
       "  <tbody>\n",
       "    <tr>\n",
       "      <th>count</th>\n",
       "      <td>301.000000</td>\n",
       "      <td>301.000000</td>\n",
       "      <td>301.000000</td>\n",
       "      <td>301.000000</td>\n",
       "      <td>301.000000</td>\n",
       "    </tr>\n",
       "    <tr>\n",
       "      <th>mean</th>\n",
       "      <td>2013.627907</td>\n",
       "      <td>4.661296</td>\n",
       "      <td>7.628472</td>\n",
       "      <td>36947.205980</td>\n",
       "      <td>0.043189</td>\n",
       "    </tr>\n",
       "    <tr>\n",
       "      <th>std</th>\n",
       "      <td>2.891554</td>\n",
       "      <td>5.082812</td>\n",
       "      <td>8.644115</td>\n",
       "      <td>38886.883882</td>\n",
       "      <td>0.247915</td>\n",
       "    </tr>\n",
       "    <tr>\n",
       "      <th>min</th>\n",
       "      <td>2003.000000</td>\n",
       "      <td>0.100000</td>\n",
       "      <td>0.320000</td>\n",
       "      <td>500.000000</td>\n",
       "      <td>0.000000</td>\n",
       "    </tr>\n",
       "    <tr>\n",
       "      <th>25%</th>\n",
       "      <td>2012.000000</td>\n",
       "      <td>0.900000</td>\n",
       "      <td>1.200000</td>\n",
       "      <td>15000.000000</td>\n",
       "      <td>0.000000</td>\n",
       "    </tr>\n",
       "    <tr>\n",
       "      <th>50%</th>\n",
       "      <td>2014.000000</td>\n",
       "      <td>3.600000</td>\n",
       "      <td>6.400000</td>\n",
       "      <td>32000.000000</td>\n",
       "      <td>0.000000</td>\n",
       "    </tr>\n",
       "    <tr>\n",
       "      <th>75%</th>\n",
       "      <td>2016.000000</td>\n",
       "      <td>6.000000</td>\n",
       "      <td>9.900000</td>\n",
       "      <td>48767.000000</td>\n",
       "      <td>0.000000</td>\n",
       "    </tr>\n",
       "    <tr>\n",
       "      <th>max</th>\n",
       "      <td>2018.000000</td>\n",
       "      <td>35.000000</td>\n",
       "      <td>92.600000</td>\n",
       "      <td>500000.000000</td>\n",
       "      <td>3.000000</td>\n",
       "    </tr>\n",
       "  </tbody>\n",
       "</table>\n",
       "</div>"
      ],
      "text/plain": [
       "              Year  Selling_Price  Present_Price     Kms_Driven       Owner\n",
       "count   301.000000     301.000000     301.000000     301.000000  301.000000\n",
       "mean   2013.627907       4.661296       7.628472   36947.205980    0.043189\n",
       "std       2.891554       5.082812       8.644115   38886.883882    0.247915\n",
       "min    2003.000000       0.100000       0.320000     500.000000    0.000000\n",
       "25%    2012.000000       0.900000       1.200000   15000.000000    0.000000\n",
       "50%    2014.000000       3.600000       6.400000   32000.000000    0.000000\n",
       "75%    2016.000000       6.000000       9.900000   48767.000000    0.000000\n",
       "max    2018.000000      35.000000      92.600000  500000.000000    3.000000"
      ]
     },
     "execution_count": 7,
     "metadata": {},
     "output_type": "execute_result"
    }
   ],
   "source": [
    "# View  statiscal computation of dataset\n",
    "df.describe()"
   ]
  },
  {
   "cell_type": "markdown",
   "metadata": {},
   "source": [
    "# Central Tendency Calculations"
   ]
  },
  {
   "cell_type": "markdown",
   "metadata": {},
   "source": [
    "# Calculate MEAN for Car Data"
   ]
  },
  {
   "cell_type": "code",
   "execution_count": 8,
   "metadata": {},
   "outputs": [
    {
     "name": "stdout",
     "output_type": "stream",
     "text": [
      "MEAN: \n",
      " Year              2013.627907\n",
      "Selling_Price        4.661296\n",
      "Present_Price        7.628472\n",
      "Kms_Driven       36947.205980\n",
      "Owner                0.043189\n",
      "dtype: float64\n"
     ]
    }
   ],
   "source": [
    "print('MEAN: \\n',df.mean())"
   ]
  },
  {
   "cell_type": "markdown",
   "metadata": {},
   "source": [
    "# Calculate MEDIAN for Car Data"
   ]
  },
  {
   "cell_type": "code",
   "execution_count": 9,
   "metadata": {},
   "outputs": [
    {
     "name": "stdout",
     "output_type": "stream",
     "text": [
      "MEDIAN: \n",
      " Year              2014.0\n",
      "Selling_Price        3.6\n",
      "Present_Price        6.4\n",
      "Kms_Driven       32000.0\n",
      "Owner                0.0\n",
      "dtype: float64\n"
     ]
    }
   ],
   "source": [
    "print('MEDIAN: \\n',df.median())"
   ]
  },
  {
   "cell_type": "markdown",
   "metadata": {},
   "source": [
    "# Calculate MODE for Car Data"
   ]
  },
  {
   "cell_type": "code",
   "execution_count": 10,
   "metadata": {},
   "outputs": [
    {
     "name": "stdout",
     "output_type": "stream",
     "text": [
      "MODE: \n",
      "   Car_Name    Year  Selling_Price  Present_Price  Kms_Driven Fuel_Type  \\\n",
      "0     city  2015.0           0.45            9.4       15000    Petrol   \n",
      "1      NaN     NaN           0.60            NaN       45000       NaN   \n",
      "\n",
      "  Seller_Type Transmission  Owner  \n",
      "0      Dealer       Manual    0.0  \n",
      "1         NaN          NaN    NaN  \n"
     ]
    }
   ],
   "source": [
    "print('MODE: \\n',df.mode())"
   ]
  },
  {
   "cell_type": "markdown",
   "metadata": {},
   "source": [
    "# Finding Quartiles for Car Data"
   ]
  },
  {
   "cell_type": "code",
   "execution_count": 11,
   "metadata": {},
   "outputs": [
    {
     "name": "stdout",
     "output_type": "stream",
     "text": [
      "Q1-Quartile 1: \n",
      "         Year  Selling_Price  Present_Price  Kms_Driven  Owner\n",
      "0.25  2012.0            0.9            1.2     15000.0    0.0\n",
      "0.50  2014.0            3.6            6.4     32000.0    0.0\n",
      "0.75  2016.0            6.0            9.9     48767.0    0.0\n"
     ]
    }
   ],
   "source": [
    "print('Q1-Quartile 1: \\n',df.quantile(q=(0.25,0.50,0.75))) "
   ]
  },
  {
   "cell_type": "markdown",
   "metadata": {},
   "source": [
    "### Distribution plot for Selling Price"
   ]
  },
  {
   "cell_type": "code",
   "execution_count": 17,
   "metadata": {},
   "outputs": [
    {
     "data": {
      "image/png": "[encoded data removed]",
      "text/plain": [
       "<Figure size 720x432 with 1 Axes>"
      ]
     },
     "metadata": {
      "needs_background": "light"
     },
     "output_type": "display_data"
    }
   ],
   "source": [
    "mean=df['Selling_Price'].mean();\n",
    "median=df['Selling_Price'].median();\n",
    "mode=df['Selling_Price'].mode();\n",
    "\n",
    "fig, ax = plt.subplots(figsize=(10,6)); \n",
    "# - - - - - - - -  -setting size of the canvas\n",
    "\n",
    "sns.distplot(df['Selling_Price']);\n",
    "\n",
    "plt.title('Distribution plot of Selling Price of Cars');\n",
    "\n",
    "plt.axvline(mean, color='green', label='Mean');\n",
    "plt.axvline(median, color='blue', label='Median');\n",
    "#\n",
    "plt.axvline(mode[0], color='red', label='Mode1')\n",
    "#\n",
    "plt.axvline(mode[1], color='red', label='Mode2')\n",
    "\n",
    "plt.legend();"
   ]
  },
  {
   "cell_type": "markdown",
   "metadata": {},
   "source": [
    "Checking Correlation"
   ]
  },
  {
   "cell_type": "code",
   "execution_count": 13,
   "metadata": {},
   "outputs": [
    {
     "name": "stdout",
     "output_type": "stream",
     "text": [
      "                   Year  Selling_Price  Present_Price  Kms_Driven     Owner\n",
      "Year           1.000000       0.236141      -0.047584   -0.524342 -0.182104\n",
      "Selling_Price  0.236141       1.000000       0.878983    0.029187 -0.088344\n",
      "Present_Price -0.047584       0.878983       1.000000    0.203647  0.008057\n",
      "Kms_Driven    -0.524342       0.029187       0.203647    1.000000  0.089216\n",
      "Owner         -0.182104      -0.088344       0.008057    0.089216  1.000000\n"
     ]
    },
    {
     "data": {
      "image/png": "[encoded data removed]",
      "text/plain": [
       "<Figure size 720x720 with 2 Axes>"
      ]
     },
     "metadata": {
      "needs_background": "light"
     },
     "output_type": "display_data"
    }
   ],
   "source": [
    "# # Pairplot using s \n",
    "corr = df.corr();\n",
    "print(corr)\n",
    "# sns.heatmap(corr, annot = True);\n",
    "\n",
    "fig, ax = plt.subplots()\n",
    "fig.set_size_inches(10, 10)\n",
    "\n",
    "plt.title('Heat Map of Correlation \\n')\n",
    "\n",
    "sns.heatmap(corr,annot=True,cmap='YlGnBu',\n",
    "vmin=1,vmax=1,linewidths=.5, center=0);"
   ]
  }
 ],
 "metadata": {
  "kernelspec": {
   "display_name": "Python 3",
   "language": "python",
   "name": "python3"
  },
  "language_info": {
   "codemirror_mode": {
    "name": "ipython",
    "version": 3
   },
   "file_extension": ".py",
   "mimetype": "text/x-python",
   "name": "python",
   "nbconvert_exporter": "python",
   "pygments_lexer": "ipython3",
   "version": "3.7.0"
  }
 },
 "nbformat": 4,
 "nbformat_minor": 2
}
